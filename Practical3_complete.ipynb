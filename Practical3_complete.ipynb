{
  "cells": [
    {
      "cell_type": "markdown",
      "metadata": {
        "id": "dCxcEwfioDxF"
      },
      "source": [
        "# 7PAVITPR: Introduction to Statistical Programming\n",
        "# Python practical 3\n",
        "\n",
        "_Angus Roberts<br/>\n",
        "Department of Biostatistics and Health Informatics<br/>\n",
        "Institute of Psychiatry, Psychology and Neuroscience<br/>\n",
        "King's College London<br/>_\n",
        "\n",
        "# Some data types: numbers, strings, and lists\n",
        "\n",
        "So far, we have used examples of textual and numeric data. We will now look at the main Python data types in a little more detail."
      ]
    },
    {
      "cell_type": "markdown",
      "metadata": {
        "id": "silY0SzGoDxI"
      },
      "source": [
        "### Numbers and arithmetic\n",
        "\n",
        "- The main numeric types in Python are integers (`int`) and floating point numbers (`float`).\n",
        "- The usual arithmetic operators are supported.\n",
        "\n",
        "## <font color=green>❓ Question</font>\n",
        "- What do you get if you add two integers together? What about a float and an integer? Demonstrate by adding a line to the code below.\n",
        "\n",
        "## <font color=green>⌨️ Your answer</font>"
      ]
    },
    {
      "cell_type": "code",
      "execution_count": null,
      "metadata": {
        "id": "K4nlpwIwoDxI"
      },
      "outputs": [],
      "source": [
        "# Add your answer to this cell:\n",
        "print('int+int\\t\\t', 1+1)\n",
        "print('float*float\\t', 2.7*9.4)"
      ]
    },
    {
      "cell_type": "markdown",
      "metadata": {
        "id": "khyY5oeHoDxJ"
      },
      "source": [
        "## <font color=green>❓ Question</font>\n",
        "\n",
        "Ilustrate what these operators and built-in functions do, with some simple code:\n",
        "- `/`\n",
        "- `//`\n",
        "- `%`\n",
        "- `**`\n",
        "- `divmod(x, y)`\n",
        "- `abs(x)`\n",
        "\n",
        "\n",
        "## <font color=green>⌨️ Your answer</font>"
      ]
    },
    {
      "cell_type": "code",
      "execution_count": null,
      "metadata": {
        "id": "XEq5YPQtoDxK"
      },
      "outputs": [],
      "source": [
        "# Write your answer in this cell:"
      ]
    },
    {
      "cell_type": "markdown",
      "metadata": {
        "id": "R03fteAQoDxK"
      },
      "source": [
        "### String\n",
        "\n",
        "\n",
        "The basic type used to represent text is `str`, or *string*. Up to now we have shown text literals in single quotes. You can also create them in double quotes:"
      ]
    },
    {
      "cell_type": "code",
      "execution_count": null,
      "metadata": {
        "id": "44DXsVpPoDxL"
      },
      "outputs": [],
      "source": [
        "a = 'single quotes'\n",
        "b = \"double quotes\"\n",
        "print(a, b)\n"
      ]
    },
    {
      "cell_type": "markdown",
      "metadata": {
        "id": "0-Peps-LoDxL"
      },
      "source": [
        "## <font color=green>💬 Discussion point</font>\n",
        "Why might you want to use one form of quotes, and not the other?\n",
        "\n",
        "## <font color=green>❓ Question</font>\n",
        "Write a piece of code to illustrate:\n",
        "- what the *escape sequences* `\\t` and `\\n` do when placed in a text string\n",
        "- What the escape sequence `\\\\` does when placed in a text string? Why do you need this last one?\n",
        "- What effect does putting the letter `r` in front of the string's opening quote mark have on escape sequences (e.g. `r'...'`?\n",
        "- Think of an example of when this might be useful\n",
        "\n",
        "\n",
        "## <font color=green>⌨️ Your answer</font>"
      ]
    },
    {
      "cell_type": "code",
      "execution_count": null,
      "metadata": {
        "id": "UPe1xwzGoDxM"
      },
      "outputs": [],
      "source": [
        "# Write your answer in this cell:"
      ]
    },
    {
      "cell_type": "markdown",
      "metadata": {
        "id": "GeeUV21qoDxM"
      },
      "source": [
        "**Multi-line string**\n",
        "\n",
        "You can print multi-line strings like this:"
      ]
    },
    {
      "cell_type": "code",
      "execution_count": null,
      "metadata": {
        "id": "hZVDy5f2oDxN"
      },
      "outputs": [],
      "source": [
        "a_big_string = '''\\\n",
        "     This string\n",
        "     spans multiple lines'''\n",
        "print(a_big_string)"
      ]
    },
    {
      "cell_type": "markdown",
      "metadata": {
        "id": "UQFvaQUMoDxN"
      },
      "source": [
        "## <font color=green>💬 Discussion point</font>\n",
        "What do you think the `\\` at the start of the above string does? Is this consistent with the treatment of escape sequences described above?"
      ]
    },
    {
      "cell_type": "markdown",
      "metadata": {
        "id": "c_4r7a-soDxN"
      },
      "source": [
        "## <font color=green>💬 Discussion point</font>\n",
        "Run the code below. What do you think `len()`, `*`, and `+` do?"
      ]
    },
    {
      "cell_type": "code",
      "execution_count": null,
      "metadata": {
        "id": "XS2XEsSwoDxO"
      },
      "outputs": [],
      "source": [
        "print(len('a'*3+'h'))\n"
      ]
    },
    {
      "cell_type": "markdown",
      "metadata": {
        "id": "rLea9KV0oDxO"
      },
      "source": [
        "### Slices\n",
        "- Strings are a type of Python *sequence*.\n",
        "- You can use Python to extract parts or *slices* of sequences \n",
        "- You do this with the *bracket operator* `[n]` (also referred to as *subscript notation*)\n",
        "- Appending it to the string literal or string variable, e.g. `'hello'[1]` will return `'e'`\n"
      ]
    },
    {
      "cell_type": "markdown",
      "metadata": {
        "id": "Nxt9aCfKoDxO"
      },
      "source": [
        "## <font color=green>❓ Question</font>\n",
        "\n",
        "Create a string variable, and use the bracket operator `[n]` at the end of it, in a print statement. `n` is an integer.\n",
        "\n",
        "- What does a zero value of `n` return?\n",
        "- What is the largest value `n` can take?\n",
        "- What does a negative `n` do?\n",
        "- What does `[n:m]` do, where `n` and `m` are two integers?\n",
        "- What do the `n` and `m` subscripts represent?\n",
        "- What about `[n:]` and `[:n]`?\n",
        "- What does [1:10:2] do?\n",
        "- Can you explain what `some_string[4:] + some_string[:4]` does?\n",
        "\n",
        "## <font color=green>⌨️ Your answer</font>"
      ]
    },
    {
      "cell_type": "code",
      "execution_count": null,
      "metadata": {
        "id": "MgXcki8ToDxO"
      },
      "outputs": [],
      "source": [
        "# Expand on this code to experiment with subscript notations.\n",
        "# in order to answer the questions above:\n",
        "some_string = 'North face of the Uxbridge Road'\n"
      ]
    },
    {
      "cell_type": "markdown",
      "metadata": {
        "id": "8qZypOwfoDxP"
      },
      "source": [
        "### Typing and casting\n",
        "\n",
        "- In Python, as in many programming languages, we talk about each piece of data (e.g. variable, literal) having a *type*, which defines how it can be operated on and used by a program.\n",
        "- Strings, integers and floats are examples of types.\n",
        "\n",
        "## <font color=green>💬 Discussion point</font>\n",
        "Python is *dynamically typed*. Take a look at the example below, run the code, and see if you can work out:\n",
        "- What has happened to `some_variable`?\n",
        "- What is the function `type` doing?\n",
        "- What do we mean by *dynamically typed*?\n"
      ]
    },
    {
      "cell_type": "code",
      "execution_count": 1,
      "metadata": {
        "id": "cf_Ok9KToDxP",
        "outputId": "59f45518-ae39-4e14-f319-bf4ad7490f8c",
        "colab": {
          "base_uri": "https://localhost:8080/"
        }
      },
      "outputs": [
        {
          "output_type": "stream",
          "name": "stdout",
          "text": [
            "<class 'str'>\n",
            "<class 'int'>\n"
          ]
        }
      ],
      "source": [
        "some_variable = 'a string'\n",
        "print(type(some_variable))\n",
        "\n",
        "some_variable = 1\n",
        "print(type(some_variable))\n"
      ]
    },
    {
      "cell_type": "markdown",
      "metadata": {
        "id": "Cm8TYQd8oDxP"
      },
      "source": [
        "## <font color=green>💬 Discussion point</font>\n",
        "\n",
        "Take a look at the two pieces of code below, and run them. Both are examples of *casting* variables. Can you explain what is happening in each?\n"
      ]
    },
    {
      "cell_type": "code",
      "execution_count": 2,
      "metadata": {
        "id": "rFNyiYy4oDxP",
        "outputId": "a671179d-8fb9-4987-d7b0-3124215752a2",
        "colab": {
          "base_uri": "https://localhost:8080/"
        }
      },
      "outputs": [
        {
          "output_type": "stream",
          "name": "stdout",
          "text": [
            "14\n",
            "5\n",
            "5.0\n"
          ]
        }
      ],
      "source": [
        "# Casting example 1 - explain what is happening\n",
        "x = '1'\n",
        "y = '4'\n",
        "print(x + y)\n",
        "print(int(x) + int(y))\n",
        "print(float(x) + int(y))\n"
      ]
    },
    {
      "cell_type": "code",
      "execution_count": 3,
      "metadata": {
        "id": "RbX2WNhMoDxP",
        "outputId": "38d9b578-f9b6-4671-9705-128ee24404d7",
        "colab": {
          "base_uri": "https://localhost:8080/"
        }
      },
      "outputs": [
        {
          "output_type": "stream",
          "name": "stdout",
          "text": [
            "5\n",
            "14\n"
          ]
        }
      ],
      "source": [
        "# Casting example 2 - explain what is happening\n",
        "x = 1\n",
        "y = 4\n",
        "print(x + y)\n",
        "print(str(x) + str(y))"
      ]
    },
    {
      "cell_type": "markdown",
      "metadata": {
        "id": "J0yAdPHZoDxQ"
      },
      "source": [
        "]=[-09876543w## <font color=green>❓ Question</font>\n",
        "\n",
        "Using the `input()` and `print()` functions and casting, write a short piece of code that asks the user to input two numbers, and prints the result of summing them.\n",
        "\n",
        "## <font color=green>⌨️ Your answer</font>"
      ]
    },
    {
      "cell_type": "code",
      "execution_count": 6,
      "metadata": {
        "id": "IgQs3tCtoDxQ",
        "outputId": "3516350c-2f3c-40c7-b57d-5de0b5bba482",
        "colab": {
          "base_uri": "https://localhost:8080/"
        }
      },
      "outputs": [
        {
          "output_type": "stream",
          "name": "stdout",
          "text": [
            "Please input a number 5\n",
            "Please input a second number 2\n",
            "7\n"
          ]
        }
      ],
      "source": [
        "# Write your answer in this cell:\n",
        "\n",
        "ask_user = input(\"Please input a number \")\n",
        "ask_user2 = input(\"Please input a second number \")\n",
        "sum_result = print(int(ask_user) + int(ask_user2))\n"
      ]
    },
    {
      "cell_type": "markdown",
      "metadata": {
        "id": "ShiKUrhyoDxQ"
      },
      "source": [
        "### Lists\n",
        "\n",
        "- The next data type we will look at is the `list`, which is used to group together values.\n",
        "- Data types which are made up of others are referred to as *compound types*\n",
        "- We create lists using `[]`\n",
        "- Run this code for an example:\n"
      ]
    },
    {
      "cell_type": "code",
      "execution_count": 7,
      "metadata": {
        "id": "nSvE-uOgoDxQ",
        "outputId": "954c096e-20a3-41ab-f43e-6cf95cc2cf5f",
        "colab": {
          "base_uri": "https://localhost:8080/"
        }
      },
      "outputs": [
        {
          "output_type": "stream",
          "name": "stdout",
          "text": [
            "[10, 11, 14, 9, 11, 37]\n"
          ]
        }
      ],
      "source": [
        "values = [10, 11, 14, 9, 11, 37]\n",
        "print(values)"
      ]
    },
    {
      "cell_type": "markdown",
      "metadata": {
        "id": "458I8gagoDxQ"
      },
      "source": [
        "## <font color=green>💬 Discussion point</font>\n",
        "Take a look at the code below.\n",
        "- What does it tell us about creating lists?\n",
        "- What does it tell us about what lists can contain?"
      ]
    },
    {
      "cell_type": "code",
      "execution_count": 8,
      "metadata": {
        "id": "8ECrJSphoDxQ",
        "outputId": "e449d47d-7224-4117-aa2d-b8d51c2540f9",
        "colab": {
          "base_uri": "https://localhost:8080/"
        }
      },
      "outputs": [
        {
          "output_type": "stream",
          "name": "stdout",
          "text": [
            "Here's a <class 'list'>\n",
            "\n",
            " [2, 8, 5, 'H', [14, 9]]\n",
            "\n",
            "It contains\n",
            "\n",
            "\t <class 'int'>\n",
            "\t <class 'str'>\n",
            "\t <class 'list'>\n"
          ]
        }
      ],
      "source": [
        "more_values = [1+1, 2*4, len('Hello'), 'Hello'[0], values[2:4]]\n",
        "\n",
        "print(\"Here's a\", type(more_values))\n",
        "print('\\n', more_values)\n",
        "print('\\nIt contains\\n')\n",
        "print('\\t', type(more_values[0]))\n",
        "print('\\t', type(more_values[3]))\n",
        "print('\\t', type(more_values[4]))\n"
      ]
    },
    {
      "cell_type": "markdown",
      "metadata": {
        "id": "aohwh-lxoDxR"
      },
      "source": [
        "**Lists are sequences**\n",
        "\n",
        "Like the `str` data type (strings), lists are also sequences, and so many of the  operators we used with strings, will also work with lists.\n",
        "\n",
        "## <font color=green>❓ Question</font>\n",
        "\n",
        "\n",
        "Amend the code below, using slices to create two new lists from the one given. The first should contain the first and last elements of the given list. The second should contain all of the other elements.\n",
        "\n",
        "## <font color=green>⌨️ Your answer</font>"
      ]
    },
    {
      "cell_type": "code",
      "execution_count": 23,
      "metadata": {
        "id": "CItYKfYeoDxR",
        "outputId": "ee4d7850-5dfb-4f4b-f56e-756cecade1a9",
        "colab": {
          "base_uri": "https://localhost:8080/"
        }
      },
      "outputs": [
        {
          "output_type": "stream",
          "name": "stdout",
          "text": [
            "[10, 37]\n",
            "[11, 14, 9, 11]\n"
          ]
        }
      ],
      "source": [
        "# Amend the code below to give your answer\n",
        "values = [10, 11, 14, 9, 11, 37]\n",
        "\n",
        "# replace each xxx and uncomment this next line\n",
        "ends = [values[0:1][0], values[-1:][0]]\n",
        "print(ends)\n",
        "\n",
        "# replace xxx and uncomment this next line\n",
        "middle = values[1:-1]\n",
        "print(middle)\n"
      ]
    },
    {
      "cell_type": "markdown",
      "metadata": {
        "id": "dNVIDJVAoDxR"
      },
      "source": [
        "## <font color=green>💬 Discussion point</font>\n",
        "\n",
        "Try the following out with your above code:\n",
        "\n",
        "- What does the code do if the list has only one member?\n",
        "- What if it is an empty list?\n",
        "- Why?"
      ]
    },
    {
      "cell_type": "markdown",
      "metadata": {
        "id": "eVlon81AoDxR"
      },
      "source": [
        "## <font color=green>❓ Question</font>\n",
        "\n",
        "Write a short piece of code to illustrate what the following slice operator does:\n",
        "\n",
        "`values[i:j:k]`\n",
        "\n",
        "## <font color=green>⌨️ Your answer</font>\n"
      ]
    },
    {
      "cell_type": "code",
      "execution_count": 40,
      "metadata": {
        "id": "YlFvUk6XoDxR",
        "outputId": "e5fce997-9f25-49db-8398-ea541b49486a",
        "colab": {
          "base_uri": "https://localhost:8080/"
        }
      },
      "outputs": [
        {
          "output_type": "execute_result",
          "data": {
            "text/plain": [
              "[15]"
            ]
          },
          "metadata": {},
          "execution_count": 40
        }
      ],
      "source": [
        "# Write your answer in this cell:\n",
        "\n",
        "values[3:14:100]\n",
        "\n"
      ]
    },
    {
      "cell_type": "markdown",
      "metadata": {
        "id": "ssrUNCCioDxR"
      },
      "source": [
        "### Mutability\n",
        "\n",
        "Lists are *mutable*. This means we can change their values, like this:\n",
        "\n",
        "`values[2] = 4`\n",
        "\n",
        "## <font color=green>❓ Question</font>\n",
        "\n",
        "Amend the code below to\n",
        "- change the last item in the list to `12`. Make sure your code will work with any length of list, by not using the actual index number of the last item.\n",
        "- replace the 4 middle items (i.e. all except first and last) with the single value `2`, giving a 3 item list\n",
        "(*hint* - try replacing the middle items with a new list, containing 1 item)\n",
        "\n",
        "## <font color=green>⌨️ Your answer</font>\n"
      ]
    },
    {
      "cell_type": "code",
      "execution_count": 44,
      "metadata": {
        "id": "fINWncgsoDxS",
        "outputId": "a736d868-dd90-4ffd-9e39-e4b7f88a7554",
        "colab": {
          "base_uri": "https://localhost:8080/"
        }
      },
      "outputs": [
        {
          "output_type": "stream",
          "name": "stdout",
          "text": [
            "[10, 11, 14, 9, 11, 12]\n",
            "[10, 2, 12]\n"
          ]
        }
      ],
      "source": [
        "# Write your answer in this cell:\n",
        "values = [10, 11, 14, 9, 11, 37]\n",
        "\n",
        "# Add a line here, to change the last to something else\n",
        "values[-1] = 12\n",
        "print(values)\n",
        "\n",
        "# Add a line here, to replace the middle 4 items with a single value,\n",
        "values[1:-1] = [2]\n",
        "# to give a 3 item list \n",
        "print(values)"
      ]
    },
    {
      "cell_type": "markdown",
      "metadata": {
        "id": "vs-G3G2HoDxS"
      },
      "source": [
        "## <font color=green>💬 Discussion point</font>\n",
        "Are strings mutable? Why is Python designed this way?"
      ]
    },
    {
      "cell_type": "markdown",
      "metadata": {
        "id": "eilZTRasoDxS"
      },
      "source": [
        "### What's in a name? Python's reference semantics\n",
        "\n",
        "Although we have used the word _variables_ quite a lot, this is lazy. Really, Python has _names_, which themselves refer not to data, but to references to that objects (data in the simlpe case) in memory.\n",
        "\n",
        "This means  several names can refer to the same piece of data.\n",
        "\n",
        "Try the following code:"
      ]
    },
    {
      "cell_type": "code",
      "execution_count": 45,
      "metadata": {
        "id": "HLPysOgqoDxS",
        "outputId": "b413192c-3df6-4481-cb18-4638f2af9c97",
        "colab": {
          "base_uri": "https://localhost:8080/"
        }
      },
      "outputs": [
        {
          "output_type": "stream",
          "name": "stdout",
          "text": [
            "[1, 2, 3, 4]\n",
            "[1, 2, 3, 4]\n"
          ]
        }
      ],
      "source": [
        "x = [1, 2, 3]\n",
        "y = x\n",
        "x.append(4)\n",
        "print( x )\n",
        "print( y )"
      ]
    },
    {
      "cell_type": "markdown",
      "metadata": {
        "id": "3EoQkF6FoDxS"
      },
      "source": [
        "## <font color=green>💬 Discussion point</font>\n",
        "\n",
        "Can you explain what has happened in the above code?\n",
        "\n",
        "Now try the next piece of code, and explain what is happening here:"
      ]
    },
    {
      "cell_type": "code",
      "execution_count": 46,
      "metadata": {
        "id": "xX-sKx2VoDxS",
        "outputId": "b74c2eb4-06d2-408e-f125-7520886ce735",
        "colab": {
          "base_uri": "https://localhost:8080/"
        }
      },
      "outputs": [
        {
          "output_type": "stream",
          "name": "stdout",
          "text": [
            "20\n",
            "10\n"
          ]
        }
      ],
      "source": [
        "x = 10\n",
        "y = x\n",
        "x = x + 10\n",
        "print( x )\n",
        "print( y )"
      ]
    },
    {
      "cell_type": "markdown",
      "metadata": {
        "id": "0k9zVPgxoDxT"
      },
      "source": [
        "### Copying lists\n",
        "\n",
        "When we copy a list in Python, the copy is *shallow*.\n",
        "\n",
        "## <font color=green>💬 Discussion point</font>\n",
        "\n",
        "Take a look at the code below, run it, and explain what we mean by a *shallow copy*."
      ]
    },
    {
      "cell_type": "code",
      "execution_count": 47,
      "metadata": {
        "id": "Q9rteZWQoDxT",
        "outputId": "6f6edc6f-24ee-4ac7-9ae3-e03e0913c7ca",
        "colab": {
          "base_uri": "https://localhost:8080/"
        }
      },
      "outputs": [
        {
          "output_type": "stream",
          "name": "stdout",
          "text": [
            "['a', 'b', [1, 2, 3]]\n",
            "['a', 'b', [1, 2, 3]]\n",
            "['a', 'b', [1, 2, 3]]\n",
            "['a', 'b', [1, 2, 'c']]\n"
          ]
        }
      ],
      "source": [
        "inner = [1, 2, 3]\n",
        "outer = ['a', 'b', inner]\n",
        "\n",
        "print(outer)\n",
        "\n",
        "copy_of_outer = outer[:]\n",
        "copy_of_inner = inner[:]\n",
        "\n",
        "print(copy_of_outer)\n",
        "\n",
        "outer[2] = 'c'\n",
        "print(copy_of_outer)\n",
        "\n",
        "inner[2] = 'c'\n",
        "print(copy_of_outer)"
      ]
    },
    {
      "cell_type": "code",
      "source": [],
      "metadata": {
        "id": "MpkziKZdkcrU"
      },
      "execution_count": null,
      "outputs": []
    }
  ],
  "metadata": {
    "kernelspec": {
      "display_name": "Python 3",
      "language": "python",
      "name": "python3"
    },
    "language_info": {
      "codemirror_mode": {
        "name": "ipython",
        "version": 3
      },
      "file_extension": ".py",
      "mimetype": "text/x-python",
      "name": "python",
      "nbconvert_exporter": "python",
      "pygments_lexer": "ipython3",
      "version": "3.7.3"
    },
    "colab": {
      "provenance": []
    }
  },
  "nbformat": 4,
  "nbformat_minor": 0
}