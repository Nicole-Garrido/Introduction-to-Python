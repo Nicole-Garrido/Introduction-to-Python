{
  "cells": [
    {
      "cell_type": "markdown",
      "metadata": {
        "id": "QYYcxDGmA5p3"
      },
      "source": [
        "# 7PAVITPR: Introduction to Statistical Programming\n",
        "# Python practical 2\n",
        "\n",
        "_Angus Roberts<br/>\n",
        "Department of Biostatistics and Health Informatics<br/>\n",
        "Institute of Psychiatry, Psychology and Neuroscience<br/>\n",
        "King's College London<br/>_\n",
        "\n",
        "\n",
        "\n",
        "# Python basics\n",
        "Some simple first steps, to get used to Python and Jupyter\n",
        "\n"
      ]
    },
    {
      "cell_type": "markdown",
      "metadata": {
        "id": "CrUoHKf1A5p6"
      },
      "source": [
        "## \"Hello world\"\n",
        "\n",
        "Here is the canonical \"Hello, world\" program - try it!"
      ]
    },
    {
      "cell_type": "code",
      "execution_count": 1,
      "metadata": {
        "colab": {
          "base_uri": "https://localhost:8080/"
        },
        "id": "umQDb6RnA5p7",
        "outputId": "ceda2714-52ac-4fc1-d622-8a248b677eba"
      },
      "outputs": [
        {
          "output_type": "stream",
          "name": "stdout",
          "text": [
            "Hello world\n"
          ]
        }
      ],
      "source": [
        "# A simple program\n",
        "# to say hello\n",
        "\n",
        "print('Hello world') # This line does the output"
      ]
    },
    {
      "cell_type": "markdown",
      "metadata": {
        "id": "fHI3bQH2A5p8"
      },
      "source": [
        "This illustrates a few simple ideas:\n",
        "\n",
        "**Comments**\n",
        "- Start with a `#`\n",
        "- End with the next newline\n",
        "- You can make long comments out of lots of one line comments\n",
        "- You can put a comment at the end of a line of code\n",
        "\n",
        "**Functions and simple output**\n",
        "- `print()` is a built-in function\n",
        "- It outputs to a text stream, e.g. a file, or by default STDOUT\n",
        "- Function arguments go in parentheses, separated by commas (there is one argument in this case)\n",
        "\n",
        "**Text**\n",
        "- Text can be placed in single quotes\n",
        "- There are lots of other ways of defining text, we will talk about these later\n",
        "- The text 'Hello world' is a *literal* - it has a fixed value\n",
        "\n"
      ]
    },
    {
      "cell_type": "markdown",
      "metadata": {
        "id": "2MvmCrLpA5p8"
      },
      "source": [
        "## Assigning to variables\n",
        "Run this code:"
      ]
    },
    {
      "cell_type": "code",
      "execution_count": 2,
      "metadata": {
        "colab": {
          "base_uri": "https://localhost:8080/"
        },
        "id": "O-wC_ZwTA5p9",
        "outputId": "7ae69570-162c-42bb-ae89-c7fe01c6c452"
      },
      "outputs": [
        {
          "output_type": "stream",
          "name": "stdout",
          "text": [
            "1\n"
          ]
        }
      ],
      "source": [
        "some_variable = 1\n",
        "print(some_variable)"
      ]
    },
    {
      "cell_type": "markdown",
      "metadata": {
        "id": "_iF9t4fXA5p9"
      },
      "source": [
        "This shows:\n",
        "\n",
        "**Assigning to variables**\n",
        "- You can assign a value to a variable with `=`\n",
        "\n",
        "**Variables**\n",
        "\n",
        "- The number `1` on the first line is another literal\n",
        "- It is being assigned to, or given, a name `some_variable`\n",
        "- By convention, variable names are `written_with_underscores`\n",
        "- An alternative is to `useCamelCase`\n",
        "- Variables are created as soon as you assign to them"
      ]
    },
    {
      "cell_type": "markdown",
      "metadata": {
        "id": "qLNafc9MA5p-"
      },
      "source": [
        "## <font color=green>💬 Discussion point</font>\n",
        "How is the use of the `print()` function different to its use in our 'Hello world' example?\n"
      ]
    },
    {
      "cell_type": "markdown",
      "metadata": {
        "id": "syxNIBWdA5p-"
      },
      "source": [
        "## Simple input\n",
        "Run this code:"
      ]
    },
    {
      "cell_type": "code",
      "execution_count": 3,
      "metadata": {
        "colab": {
          "base_uri": "https://localhost:8080/"
        },
        "id": "cHAAe8uhA5p_",
        "outputId": "8a855e61-7de4-418e-c2d2-5525f264d5fd"
      },
      "outputs": [
        {
          "output_type": "stream",
          "name": "stdout",
          "text": [
            "Enter some text: Hi, how are you?\n",
            "You entered Hi, how are you?\n"
          ]
        }
      ],
      "source": [
        "# Assign some keyboard input to a variable\n",
        "# and then print it\n",
        "\n",
        "x = input('Enter some text: ')\n",
        "print('You entered', x)"
      ]
    },
    {
      "cell_type": "markdown",
      "metadata": {
        "id": "1WsLLp5jA5p_"
      },
      "source": [
        "## <font color=green>💬 Discussion point</font>\n",
        "What kind of Python thing (i.e. what type of object) is `input()`?\n",
        "\n"
      ]
    },
    {
      "cell_type": "code",
      "source": [
        "type(input)"
      ],
      "metadata": {
        "id": "oWeMk-LvJhRo",
        "outputId": "77b3df1a-1685-45e8-e87c-8929e5af2c54",
        "colab": {
          "base_uri": "https://localhost:8080/"
        }
      },
      "execution_count": 4,
      "outputs": [
        {
          "output_type": "execute_result",
          "data": {
            "text/plain": [
              "method"
            ]
          },
          "metadata": {},
          "execution_count": 4
        }
      ]
    },
    {
      "cell_type": "markdown",
      "source": [
        "- input() is a 'method' type object in Python."
      ],
      "metadata": {
        "id": "LEEgnZb6JoGN"
      }
    },
    {
      "cell_type": "markdown",
      "metadata": {
        "id": "MnJ11SVxA5p_"
      },
      "source": [
        "## <font color=green>💬 Discussion point</font>\n",
        "How many arguments has the `print()` function got in this example? What does the function do with each of them?"
      ]
    },
    {
      "cell_type": "markdown",
      "source": [
        "- The print() function has two arguments"
      ],
      "metadata": {
        "id": "wCclz_EhKdil"
      }
    },
    {
      "cell_type": "markdown",
      "metadata": {
        "id": "qwiZ1syIA5qA"
      },
      "source": [
        "## Multiple assignment\n",
        "Try this:"
      ]
    },
    {
      "cell_type": "code",
      "execution_count": 5,
      "metadata": {
        "colab": {
          "base_uri": "https://localhost:8080/"
        },
        "id": "r-AxjzDOA5qA",
        "outputId": "5db8b5b3-9700-4562-a3e2-39cc6423eccd"
      },
      "outputs": [
        {
          "output_type": "stream",
          "name": "stdout",
          "text": [
            "2\n",
            "3\n"
          ]
        }
      ],
      "source": [
        "one_variable, another_variable = 2, 3\n",
        "print(one_variable)\n",
        "print(another_variable)\n"
      ]
    },
    {
      "cell_type": "markdown",
      "metadata": {
        "id": "4rUJ6pN1A5qA"
      },
      "source": [
        "## <font color=green>💬 Discussion point</font>\n",
        "What is happening in this assignment?"
      ]
    },
    {
      "cell_type": "markdown",
      "source": [
        "- 2 is being assigned to 'one_variable' and 3 is being assigned to 'another_variable'\n",
        "- The print() function then returns 2 and 3 on separate lines as a result of calling the print() function of one_variable and another_variable, respectively."
      ],
      "metadata": {
        "id": "URAyi_dRNwHx"
      }
    },
    {
      "cell_type": "markdown",
      "metadata": {
        "id": "UPWo6WuDA5qA"
      },
      "source": [
        "## Using functions\n",
        "In the above, we say the `input()` function _returns_ a value, and we assigned the returned value to a variable.\n",
        "\n",
        "The next exercises will help to give you further understanding of Python functions, and also practice in using the Python documentation.\n",
        "\n",
        "\n",
        "## <font color=green>❓ Question</font>\n",
        "\n",
        "- All Python functions return something\n",
        "- Write a small piece of code to find out what the `print()` function returns"
      ]
    },
    {
      "cell_type": "markdown",
      "metadata": {
        "id": "EPzgMUDyA5qB"
      },
      "source": [
        "## <font color=green>⌨️ Your answer</font>"
      ]
    },
    {
      "cell_type": "code",
      "execution_count": 6,
      "metadata": {
        "colab": {
          "base_uri": "https://localhost:8080/"
        },
        "id": "DilRVM_IA5qB",
        "outputId": "a9380b8b-684d-44f9-cc12-b959b3508330"
      },
      "outputs": [
        {
          "output_type": "stream",
          "name": "stdout",
          "text": [
            "hello\n",
            "None\n"
          ]
        }
      ],
      "source": [
        "# Write your answer in this cell\n",
        "x = print(\"hello\")\n",
        "print(x)"
      ]
    },
    {
      "cell_type": "markdown",
      "metadata": {
        "id": "geG45I45A5qB"
      },
      "source": [
        "## <font color=green>❓ Question</font>\n",
        "Find out about the `print()` function from the [Python documentation](https://docs.python.org/3.7/index.html). You will find it described as a built-in function in the Library Reference.\n",
        "\n",
        "Write another \"hello world\" example that takes each word as a separate argument, defines how to separate them (not with the default space), and adds two newlines at the end instead of the default one."
      ]
    },
    {
      "cell_type": "markdown",
      "metadata": {
        "id": "VYlYsOzhA5qB"
      },
      "source": [
        "## <font color=green>⌨️ Your answer</font>"
      ]
    },
    {
      "cell_type": "code",
      "execution_count": 8,
      "metadata": {
        "colab": {
          "base_uri": "https://localhost:8080/"
        },
        "id": "Qkl8OYTfA5qB",
        "outputId": "facdc0b4-bfcc-407f-f113-85be121af8f8"
      },
      "outputs": [
        {
          "output_type": "stream",
          "name": "stdout",
          "text": [
            "Hello:World\n",
            "\n"
          ]
        }
      ],
      "source": [
        "# Write your answer in this cell\n",
        "print(\"Hello\", \"World\", sep=':', end='\\n\\n')"
      ]
    },
    {
      "cell_type": "markdown",
      "metadata": {
        "id": "5wrmy8X-A5qC"
      },
      "source": [
        "## <font color=green>❓ Question</font>\n",
        "Why might multiple assignment be useful with functions? Illustrate this by using the `divmod()` function, another built-in function described in the [Python documentation](https://docs.python.org/3.7/index.html) (see the Library Reference). Write two lines of code that do a division, and prints the answer in one readable line, e.g. ***Quotient is 3 and remainder is 2***"
      ]
    },
    {
      "cell_type": "markdown",
      "metadata": {
        "id": "4l0l8VN0A5qC"
      },
      "source": [
        "## <font color=green>⌨️ Your answer</font>"
      ]
    },
    {
      "cell_type": "code",
      "execution_count": 21,
      "metadata": {
        "colab": {
          "base_uri": "https://localhost:8080/"
        },
        "id": "9iQ1VFHJA5qC",
        "outputId": "6dcda051-5a4d-4dce-ee7e-24e7570c6547"
      },
      "outputs": [
        {
          "output_type": "stream",
          "name": "stdout",
          "text": [
            "Quotient is 2 and remainder is 1\n"
          ]
        }
      ],
      "source": [
        "# Write your answer in this cell\n",
        "q, r = divmod(7,3)\n",
        "print(\"Quotient is\", q, \"and remainder is\", r)\n",
        "\n"
      ]
    },
    {
      "cell_type": "code",
      "source": [],
      "metadata": {
        "id": "LxHcdPboR8tX"
      },
      "execution_count": null,
      "outputs": []
    }
  ],
  "metadata": {
    "kernelspec": {
      "display_name": "Python 3",
      "language": "python",
      "name": "python3"
    },
    "language_info": {
      "codemirror_mode": {
        "name": "ipython",
        "version": 3
      },
      "file_extension": ".py",
      "mimetype": "text/x-python",
      "name": "python",
      "nbconvert_exporter": "python",
      "pygments_lexer": "ipython3",
      "version": "3.7.3"
    },
    "colab": {
      "provenance": []
    }
  },
  "nbformat": 4,
  "nbformat_minor": 0
}