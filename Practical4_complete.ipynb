{
  "cells": [
    {
      "cell_type": "markdown",
      "metadata": {
        "id": "LV5QSwyqopLl"
      },
      "source": [
        "# 7PAVITPR: Introduction to Statistical Programming\n",
        "# Python practical 4\n",
        "\n",
        "_Angus Roberts<br/>\n",
        "Department of Biostatistics and Health Informatics<br/>\n",
        "Institute of Psychiatry, Psychology and Neuroscience<br/>\n",
        "King's College London<br/>_"
      ]
    },
    {
      "cell_type": "markdown",
      "metadata": {
        "id": "6Dmr-dw-opLo"
      },
      "source": [
        "# Methods - classes and instances\n",
        "\n",
        "Up to now, we have thought of Python of consisting of two things:\n",
        "- data, of various types\n",
        "- the operations and functions we perform on the data\n",
        "\n",
        "For example,\n",
        "- `x + y` applies the `+` operator to two data operands, to add them\n",
        "- `len('Hello world')` applies the `len()` function to data of type `str` to find its length\n",
        "\n",
        "You can think of simple bits of Python like this, but in reality, data and functionality are bundled together, defined in programming objects called *classes*. We will look at this in the lectures, but in summary:\n",
        "\n",
        "- A class defines both the type of data and the functionality that can be carried out on it\n",
        "- When we create literals and variables, we are creating individual examples, or *instances* of a class. For example:\n",
        "  - `Hello world` is an *instance* of the `str` class\n",
        "  - `2.3` is an *instance* of the `float` class\n",
        "  - `values = [1, 2, 3]` defines a variable called `values` which refers to an *instance* of the `list` class\n",
        "- The functionality that a class defines is used to manipulate its data\n",
        "- A piece of functionality is defined as a *method* of the class.\n",
        "- We will look at examples using strings, but the idea applies to any data type.\n",
        "- Run the following code:"
      ]
    },
    {
      "cell_type": "code",
      "execution_count": 1,
      "metadata": {
        "id": "F4YJQyJSopLp",
        "outputId": "a8ca345a-b03b-4423-e04e-52d9827ec726",
        "colab": {
          "base_uri": "https://localhost:8080/"
        }
      },
      "outputs": [
        {
          "output_type": "stream",
          "name": "stdout",
          "text": [
            "HELLO WORLD\n"
          ]
        }
      ],
      "source": [
        "some_string = 'Hello world'\n",
        "another_string = some_string.upper()\n",
        "print(another_string)"
      ]
    },
    {
      "cell_type": "markdown",
      "metadata": {
        "id": "8utedIK5opLq"
      },
      "source": [
        "In the above code, we have done the following:\n",
        "- Assigned a variable, an **instance** of the `str` **class**\n",
        "- Invoked the `upper()` **method** on this `str` instance\n",
        "- Assigned the return value of the method to a second variable, and printed it\n",
        "\n",
        "## <font color=green>💬 Discussion point</font>\n",
        "The below example shows a method being invoked on a string, part of a gene sequence. Can you see a second string in the code? What role is the second string playing, in terms of methods and instances?"
      ]
    },
    {
      "cell_type": "code",
      "execution_count": 2,
      "metadata": {
        "id": "pEJ7ioXXopLq",
        "outputId": "0b22ee57-8cec-4ee6-cc63-66daa7059280",
        "colab": {
          "base_uri": "https://localhost:8080/"
        }
      },
      "outputs": [
        {
          "output_type": "stream",
          "name": "stdout",
          "text": [
            "4\n"
          ]
        }
      ],
      "source": [
        "sequence = 'ATGGTGCTGTCTCCTGCCGACAAGACCAACGTCAAGGCCGCCTGGGGTAAGGTCGGCGCGCACGCTGGCG'\n",
        "ctg_count = sequence.count('CTG')\n",
        "print(ctg_count)"
      ]
    },
    {
      "cell_type": "markdown",
      "metadata": {
        "id": "p5WJ5G3vopLr"
      },
      "source": [
        "## <font color=green>💬 Discussion point</font>\n",
        "Can you explain what is happening in the below example, in terms of methods and instances?"
      ]
    },
    {
      "cell_type": "code",
      "execution_count": 3,
      "metadata": {
        "id": "HFv5HrxaopLr",
        "outputId": "7e5c1ffd-a12c-466f-ec22-bb28b6b5360c",
        "colab": {
          "base_uri": "https://localhost:8080/"
        }
      },
      "outputs": [
        {
          "output_type": "stream",
          "name": "stdout",
          "text": [
            "aBaBaBa\n",
            "CBCBCBC\n"
          ]
        }
      ],
      "source": [
        "var1 = 'aBaBaBa'\n",
        "var2 = var1.replace('a','c').upper()\n",
        "print(var1)\n",
        "print(var2)"
      ]
    },
    {
      "cell_type": "markdown",
      "metadata": {
        "id": "GCBG7LlWopLs"
      },
      "source": [
        "**An aside: how methods, functions and operators relate to each other**\n",
        "\n",
        "Before mentioning methods, we had instead manipulated data with functions and operators, such as:\n",
        "- The `+` operator in `2 + 2`\n",
        "- The `print()` function\n",
        "\n",
        "Internally, these are really defined as specially named methods on classes such as the `int` class. Python exposes their function or operator syntax to the programmer for convenience. We will not cover how you can do this."
      ]
    },
    {
      "cell_type": "markdown",
      "metadata": {
        "id": "siNgNEuQopLs"
      },
      "source": [
        "## Some sequence methods\n",
        "\n",
        "Now we know about methods, we have access to lots more sequence functionlity, giving you great freedom to manipulate lists and other sequences. You can find them in the Python Standard Library Reference, in the [Python documentation](https://docs.python.org/3/library/stdtypes.html#sequence-types-list-tuple-range).\n",
        "\n",
        "Here you will find three separate lists of common methods, operators and functions that you can use on:\n",
        "- sequences\n",
        "- mutable sequences\n",
        "- lists (just one method: `sort()`)\n",
        "\n",
        "You should familiarise yourself with these. The following exercise will help, concentrating on methods."
      ]
    },
    {
      "cell_type": "markdown",
      "metadata": {
        "id": "6o32KUEKopLt"
      },
      "source": [
        "## <font color=green>❓ Question</font>\n",
        "\n",
        "Using the methods given in the Python Standard Library Reference for [sequences](https://docs.python.org/3/library/stdtypes.html#sequence-types-list-tuple-range) (and remembering to scroll down to see those applicable to mutable sequences, uncomment and edit lines in the following code to carry out the operations described in the comments.\n",
        "\n",
        "\n",
        "## <font color=green>⌨️ Your answer</font>"
      ]
    },
    {
      "cell_type": "code",
      "execution_count": 16,
      "metadata": {
        "id": "HffI9UKpopLt",
        "outputId": "ac456f71-fbf4-492e-efaa-5b59d81db483",
        "colab": {
          "base_uri": "https://localhost:8080/"
        }
      },
      "outputs": [
        {
          "output_type": "stream",
          "name": "stdout",
          "text": [
            "[11, 34, 25, 157, 19, 45]\n",
            "25\n",
            "[45, 19, 157, 34, 11]\n",
            "2\n"
          ]
        }
      ],
      "source": [
        "# Write your answer in this cell:\n",
        "a_list = [11, 34, 25, 157, 19]\n",
        "\n",
        "# Add the value 45 to the end of the list, and print\n",
        "a_list.append(45)\n",
        "\n",
        "# print(a_list)\n",
        "print(a_list)\n",
        "\n",
        "# Remove the 3rd item from the list, and print it\n",
        "third_item = a_list.pop(2)\n",
        "\n",
        "# print(third_item)\n",
        "print(third_item)\n",
        "\n",
        "# Reverse the list and print it\n",
        "a_list.reverse()\n",
        "\n",
        "# print(a_list)\n",
        "print(a_list)\n",
        "\n",
        "# Print the index number of the 157\n",
        "print(a_list.index(157))\n"
      ]
    },
    {
      "cell_type": "code",
      "source": [],
      "metadata": {
        "id": "HgpfpDjKqN2R"
      },
      "execution_count": null,
      "outputs": []
    }
  ],
  "metadata": {
    "kernelspec": {
      "display_name": "Python 3",
      "language": "python",
      "name": "python3"
    },
    "language_info": {
      "codemirror_mode": {
        "name": "ipython",
        "version": 3
      },
      "file_extension": ".py",
      "mimetype": "text/x-python",
      "name": "python",
      "nbconvert_exporter": "python",
      "pygments_lexer": "ipython3",
      "version": "3.7.3"
    },
    "colab": {
      "provenance": []
    }
  },
  "nbformat": 4,
  "nbformat_minor": 0
}